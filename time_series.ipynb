{
 "cells": [
  {
   "cell_type": "code",
   "execution_count": 4,
   "metadata": {
    "collapsed": true
   },
   "outputs": [],
   "source": [
    "import pandas as pd\n",
    "import numpy as np\n",
    "import seaborn as sns\n",
    "import matplotlib.pyplot as plt \n",
    "%matplotlib inline\n",
    "from matplotlib.pylab import rcParams\n",
    "rcParams['figure.figsize'] = 15, 6"
   ]
  },
  {
   "cell_type": "code",
   "execution_count": 11,
   "metadata": {},
   "outputs": [
    {
     "name": "stdout",
     "output_type": "stream",
     "text": [
      "     Month  #Passengers\n0  1949-01          112\n1  1949-02          118\n2  1949-03          132\n3  1949-04          129\n4  1949-05          121\nMonth          object\n#Passengers     int64\ndtype: object\n"
     ]
    }
   ],
   "source": [
    "FILE_TO_READ = './data/AirPassengers.csv'\n",
    "\n",
    "data = pd.read_csv(FILE_TO_READ)\n",
    "print(data.head())\n",
    "print(data.dtypes)"
   ]
  },
  {
   "cell_type": "code",
   "execution_count": 15,
   "metadata": {
    "collapsed": false
   },
   "outputs": [
    {
     "name": "stdout",
     "output_type": "stream",
     "text": [
      "            #Passengers\nMonth                  \n1949-01-01          112\n1949-02-01          118\n1949-03-01          132\n1949-04-01          129\n1949-05-01          121\n"
     ]
    }
   ],
   "source": [
    "dateparse = lambda dates: pd.datetime.strptime(dates, '%Y-%m')\n",
    "\n",
    "data = pd.read_csv(FILE_TO_READ, parse_dates=True, index_col='Month', date_parser=dateparse)\n",
    "\n",
    "\n",
    "print(data.head())"
   ]
  },
  {
   "cell_type": "code",
   "execution_count": 16,
   "metadata": {},
   "outputs": [
    {
     "data": {
      "text/plain": [
       "DatetimeIndex(['1949-01-01', '1949-02-01', '1949-03-01', '1949-04-01',\n               '1949-05-01', '1949-06-01', '1949-07-01', '1949-08-01',\n               '1949-09-01', '1949-10-01',\n               ...\n               '1960-03-01', '1960-04-01', '1960-05-01', '1960-06-01',\n               '1960-07-01', '1960-08-01', '1960-09-01', '1960-10-01',\n               '1960-11-01', '1960-12-01'],\n              dtype='datetime64[ns]', name='Month', length=144, freq=None)"
      ]
     },
     "execution_count": 16,
     "metadata": {},
     "output_type": "execute_result"
    }
   ],
   "source": [
    "data.index"
   ]
  },
  {
   "cell_type": "code",
   "execution_count": 17,
   "metadata": {},
   "outputs": [
    {
     "data": {
      "text/plain": [
       "Month\n1949-01-01    112\n1949-02-01    118\n1949-03-01    132\n1949-04-01    129\n1949-05-01    121\n1949-06-01    135\n1949-07-01    148\n1949-08-01    148\n1949-09-01    136\n1949-10-01    119\nName: #Passengers, dtype: int64"
      ]
     },
     "execution_count": 17,
     "metadata": {},
     "output_type": "execute_result"
    }
   ],
   "source": [
    "ts = data['#Passengers']\n",
    "ts.head(10)"
   ]
  },
  {
   "cell_type": "code",
   "execution_count": 18,
   "metadata": {},
   "outputs": [
    {
     "data": {
      "text/plain": [
       "112"
      ]
     },
     "execution_count": 18,
     "metadata": {},
     "output_type": "execute_result"
    }
   ],
   "source": [
    "#1. Specific the index as a string constant:\n",
    "\n",
    "ts['1949-01-01']\n"
   ]
  },
  {
   "cell_type": "code",
   "execution_count": 19,
   "metadata": {},
   "outputs": [
    {
     "data": {
      "text/plain": [
       "112"
      ]
     },
     "execution_count": 19,
     "metadata": {},
     "output_type": "execute_result"
    }
   ],
   "source": [
    "#2. Import the datetime library and use 'datetime' function:\n",
    "from datetime import datetime\n",
    "ts[datetime(1949, 1, 1)]"
   ]
  },
  {
   "cell_type": "code",
   "execution_count": 22,
   "metadata": {},
   "outputs": [
    {
     "data": {
      "text/plain": [
       "Month\n1949-01-01    112\n1949-02-01    118\n1949-03-01    132\n1949-04-01    129\n1949-05-01    121\nName: #Passengers, dtype: int64"
      ]
     },
     "execution_count": 22,
     "metadata": {},
     "output_type": "execute_result"
    }
   ],
   "source": [
    "ts[: '1949-05-01']"
   ]
  },
  {
   "cell_type": "code",
   "execution_count": 23,
   "metadata": {},
   "outputs": [
    {
     "data": {
      "text/plain": [
       "Month\n1949-01-01    112\n1949-02-01    118\n1949-03-01    132\n1949-04-01    129\n1949-05-01    121\n1949-06-01    135\n1949-07-01    148\n1949-08-01    148\n1949-09-01    136\n1949-10-01    119\n1949-11-01    104\n1949-12-01    118\nName: #Passengers, dtype: int64"
      ]
     },
     "execution_count": 23,
     "metadata": {},
     "output_type": "execute_result"
    }
   ],
   "source": [
    "ts['1949']"
   ]
  },
  {
   "cell_type": "code",
   "execution_count": 24,
   "metadata": {},
   "outputs": [],
   "source": [
    "# A TS is said to be stationary if its statistical properties such as mean, variance remain constant over time. \n",
    "# But why is it important? \n",
    "# Most of the TS models work on the assumption that the TS is stationary. \n",
    "# Intuitively, we can sat that if a TS has a particular behaviour over time, \n",
    "# there is a very high probability that it will follow the same in the future. \n",
    "# Also, the theories related to stationary series are more mature and easier to implement as compared to non-stationary series."
   ]
  },
  {
   "cell_type": "code",
   "execution_count": 25,
   "metadata": {},
   "outputs": [],
   "source": [
    "# Definition of Stationarity \n",
    "#  1. constant mean\n",
    "#  2. constant variance\n",
    "#  3. an autocovariance that does not depend on time."
   ]
  },
  {
   "cell_type": "code",
   "execution_count": 26,
   "metadata": {},
   "outputs": [],
   "source": [
    "# Then How to check Stationarity of time series?\n",
    "\n",
    "# 1. Plotting Rolling Statistics: We can plot the moving average or moving variance and see if it varies with time. \n",
    "#    By moving average/variance I mean that at any instant ‘t’, we’ll take the average/variance of the last year, \n",
    "#    i.e. last 12 months. But again this is more of a visual technique.\n",
    "\n",
    "# 2. Dickey-Fuller Test: This is one of the statistical tests for checking stationarity. \n",
    "#    Here the null hypothesis is that the TS is non-stationary. \n",
    "#    The test results comprise of a Test Statistic and some Critical Values for difference confidence levels. \n",
    "#    If the ‘Test Statistic’ is less than the ‘Critical Value’, \n",
    "#    we can reject the null hypothesis and say that the series is stationary\n",
    "\n"
   ]
  },
  {
   "cell_type": "code",
   "execution_count": null,
   "metadata": {},
   "outputs": [],
   "source": [
    ""
   ]
  }
 ],
 "metadata": {
  "kernelspec": {
   "display_name": "Python 2",
   "language": "python",
   "name": "python2"
  },
  "language_info": {
   "codemirror_mode": {
    "name": "ipython",
    "version": 2.0
   },
   "file_extension": ".py",
   "mimetype": "text/x-python",
   "name": "python",
   "nbconvert_exporter": "python",
   "pygments_lexer": "ipython2",
   "version": "2.7.6"
  }
 },
 "nbformat": 4,
 "nbformat_minor": 0
}